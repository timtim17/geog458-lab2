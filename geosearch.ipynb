{
  "cells": [
    {
      "cell_type": "code",
      "execution_count": 1,
      "metadata": {
        "id": "EtnaSlH-wplB"
      },
      "outputs": [],
      "source": [
        "# created on Dec 24, 2020\n",
        "# modified on April 12, 2022\n",
        "# @author:          Bo Zhao\n",
        "# @email:           zhaobo@uw.edu\n",
        "# @website:         https://hgis.uw.edu\n",
        "# @organization:    Department of Geography, University of Washington, Seattle\n",
        "# @description:     Search geo-tagged tweets within the U.S. This script is modified from https://github.com/shawn-terryah/Twitter_Geolocation"
      ]
    },
    {
      "cell_type": "code",
      "execution_count": 2,
      "metadata": {
        "id": "f-bMdKMawxnQ",
        "outputId": "af6731be-718a-4128-b8f1-54929452b169",
        "colab": {
          "base_uri": "https://localhost:8080/"
        }
      },
      "outputs": [
        {
          "output_type": "stream",
          "name": "stdout",
          "text": [
            "Mounted at /gdrive\n"
          ]
        }
      ],
      "source": [
        "import tweepy, json, time\n",
        "import pandas as pd\n",
        "from google.colab import files\n",
        "# Create data on to Google Drive\n",
        "from google.colab import drive\n",
        "# Mount your Drive to the Colab VM.\n",
        "drive.mount('/gdrive')"
      ]
    },
    {
      "cell_type": "code",
      "execution_count": 3,
      "metadata": {
        "id": "dEyPts-ZwplE"
      },
      "outputs": [],
      "source": [
        "class StreamListener(tweepy.StreamListener):\n",
        "    \"\"\"tweepy.StreamListener is a class provided by tweepy used to access\n",
        "    the Twitter Streaming API to collect tweets in real-time.\n",
        "    \"\"\"\n",
        "\n",
        "    def __init__(self, time_limit=60, file=\"\"):\n",
        "        \"\"\"class initialization\"\"\"\n",
        "        self.start_time = time.time()\n",
        "        self.limit = time_limit\n",
        "        self.result = []\n",
        "        self.f = file\n",
        "        super(StreamListener, self).__init__()\n",
        "\n",
        "    def on_data(self, data):\n",
        "        \"\"\"This is called when data are streamed in.\"\"\"\n",
        "        if (time.time() - self.start_time) < self.limit:\n",
        "            datajson = json.loads(data)\n",
        "            # print(datajson, \"\\n\")\n",
        "            if 'id' not in datajson.keys():\n",
        "                time.sleep(10)\n",
        "            else:\n",
        "                id = datajson['id']\n",
        "                username = datajson['user']['screen_name']\n",
        "                created_at = datajson['created_at']\n",
        "                text = datajson['text'].strip().replace(\"\\n\", \"\")\n",
        "\n",
        "                # process the geo-tags\n",
        "                if datajson['coordinates'] == None:\n",
        "                    try:\n",
        "                        bbox = datajson['place']['bounding_box']['coordinates'][0]\n",
        "                        lng = (bbox[0][0] + bbox[2][0]) / 2.0\n",
        "                        lat = (bbox[0][1] + bbox[1][1]) / 2.0\n",
        "                    except:\n",
        "                        lat = 0\n",
        "                        lng = 0\n",
        "                else:\n",
        "                    lng = datajson['coordinates']['coordinates'][0]\n",
        "                    lat = datajson['coordinates']['coordinates'][1]\n",
        "\n",
        "                if lat != 0:\n",
        "                    row = {\n",
        "                        'id': id,\n",
        "                        'username': username,\n",
        "                        'created_at': created_at,\n",
        "                        'lng': lng,\n",
        "                        'lat': lat,\n",
        "                        'text': text\n",
        "                    }\n",
        "                    print(row)\n",
        "                    self.result.append(row)\n",
        "                else:\n",
        "                    pass\n",
        "        else:\n",
        "            df = pd.DataFrame(self.result)\n",
        "            df.to_csv(self.f, index=False)\n",
        "            # download the csv to your local computer\n",
        "            files.download(self.f)\n",
        "            print(\"the csv has been downloaded to your local computer. The program has been completed successfully.\")\n",
        "            return False"
      ]
    },
    {
      "cell_type": "code",
      "execution_count": null,
      "metadata": {
        "id": "5Xzyo_OiwplG",
        "colab": {
          "base_uri": "https://localhost:8080/"
        },
        "outputId": "b843ccac-74a9-4c26-bd3c-109646c6c320"
      },
      "outputs": [
        {
          "output_type": "stream",
          "name": "stdout",
          "text": [
            "{'id': 1517671206849507328, 'username': 'YogannaNupur', 'created_at': 'Sat Apr 23 01:06:27 +0000 2022', 'lng': 139.931051, 'lat': 35.715682, 'text': 'Good morning my lovelies 💞 it’s a not so sunny Saturday in Tokyo, woke up late but ready for yoga and meditation. L… https://t.co/V0GRHer0Nk'}\n",
            "{'id': 1517671326164852736, 'username': 'Erika91000000', 'created_at': 'Sat Apr 23 01:06:55 +0000 2022', 'lng': 139.745379, 'lat': 35.652789, 'text': 'Awesome'}\n",
            "{'id': 1517671600954687489, 'username': 'KO_VintageTokyo', 'created_at': 'Sat Apr 23 01:08:01 +0000 2022', 'lng': 139.69262600000002, 'lat': 35.666851, 'text': 'Condition is A1. DM to purchase \\U0001f90e https://t.co/eC0LxInUUQ'}\n",
            "{'id': 1517671629593411585, 'username': 'JQ2KPP', 'created_at': 'Sat Apr 23 01:08:08 +0000 2022', 'lng': 138.684687, 'lat': 35.2373305, 'text': '@womensoudan 🎶𝙜𝙤𝙤𝙤𝙤𝙙 𝙢𝙤𝙧𝙣𝙞𝙣𝙜!🎶'}\n",
            "{'id': 1517671650614861824, 'username': 'potaspotja', 'created_at': 'Sat Apr 23 01:08:13 +0000 2022', 'lng': 140.058, 'lat': 35.7685, 'text': '01:07 JM1FTS/P on JA-1900(JP-CH Chiba Prefectural Funabashi Forest Provincial Park) 7041 FT8 TNX GL[JQ3BUM]'}\n",
            "{'id': 1517671837244612608, 'username': 'ihara_saikaku', 'created_at': 'Sat Apr 23 01:08:57 +0000 2022', 'lng': 133.00512650000002, 'lat': 34.4553855, 'text': 'Mission complete! https://t.co/fSOaak9sEM'}\n",
            "{'id': 1517671866789335041, 'username': 'tmj_jpn_jobs', 'created_at': 'Sat Apr 23 01:09:04 +0000 2022', 'lng': 139.6917064, 'lat': 35.6894875, 'text': 'Can you recommend anyone for this job? Vice President Japan Marketing and Communications in Tokyo.… https://t.co/Zg7EqN6cs2'}\n",
            "{'id': 1517671921059766272, 'username': 'ichigao', 'created_at': 'Sat Apr 23 01:09:17 +0000 2022', 'lng': 138.868081, 'lat': 35.427639, 'text': 'A lovely day in early summer in Japan. https://t.co/dIqisyjuzu'}\n",
            "{'id': 1517671949136146432, 'username': 'potaspotja', 'created_at': 'Sat Apr 23 01:09:24 +0000 2022', 'lng': 139.23, 'lat': 35.7197, 'text': '01:08 JJ1DQR/1 on JA-1829(JP-TK Komine Park Provincial Park) 7009.6 CW RBN 29 dB 23 WPM via JQ1BVI-#[JQ1BVI-#]'}\n",
            "{'id': 1517672102568292352, 'username': 'JQ2KPP', 'created_at': 'Sat Apr 23 01:10:00 +0000 2022', 'lng': 138.684687, 'lat': 35.2373305, 'text': '@bakamarum 🎶𝙜𝙤𝙤𝙤𝙤𝙙 𝙢𝙤𝙧𝙣𝙞𝙣𝙜!🎶'}\n",
            "{'id': 1517672133346086912, 'username': 'Lake09jp', 'created_at': 'Sat Apr 23 01:10:08 +0000 2022', 'lng': 132.565185, 'lat': 34.245663, 'text': 'Very good!!#呉はいいぞ #呉鎮守府 #KURE #山乃家 https://t.co/h3ofNgJ5Ep'}\n",
            "{'id': 1517672140094730240, 'username': 'DiazStephen', 'created_at': 'Sat Apr 23 01:10:09 +0000 2022', 'lng': 139.47639149999998, 'lat': 36.14414, 'text': '@ChuchoRomeero Mexico does not need to pay because Andrea was 1st Runner-up in 2019.'}\n",
            "{'id': 1517672253613539329, 'username': 'DiazStephen', 'created_at': 'Sat Apr 23 01:10:36 +0000 2022', 'lng': 139.47639149999998, 'lat': 36.14414, 'text': '@ChuchoRomeero Also Colombia is not paying because Alejandra was 3rd Runner-up.'}\n",
            "{'id': 1517672416142856192, 'username': 'PedroGomesPhoto', 'created_at': 'Sat Apr 23 01:11:15 +0000 2022', 'lng': 140.353239, 'lat': 35.5043575, 'text': '@cryptoBILLnfts You can do it in a good way #EarthDay support an artist and protect mother #earth Click the link t… https://t.co/1UqeWSe2Io'}\n",
            "{'id': 1517672544307843072, 'username': 'potaspotja', 'created_at': 'Sat Apr 23 01:11:46 +0000 2022', 'lng': 139.557, 'lat': 35.7287, 'text': '01:10 JO1LNK on JA-1276(JP-TK Higashifushimi Provincial Park) 7041 FT8 [JO1LNK]'}\n",
            "{'id': 1517672835308609538, 'username': 'Omni_Hug', 'created_at': 'Sat Apr 23 01:12:55 +0000 2022', 'lng': 139.5781, 'lat': 35.4624575, 'text': '@realBoHirano Are you a man of your word? ;)'}\n"
          ]
        }
      ],
      "source": [
        "if __name__ == \"__main__\":\n",
        "    # These are provided to you through the Twitter API after you create a account\n",
        "    # register a Twitter App to get the keys and access tokens.\n",
        "    output_file = '/gdrive/My Drive/geotweets.csv'\n",
        "\n",
        "    # Apply for your own Twitter API keys at https://developer.twitter.com/en/apply-for-access\n",
        "    consumer_key = \"lpN0n7L5GkN776GG51v4MKGAk\"\n",
        "    consumer_secret = \"fVmvM0z3X4e3pQZCyEErutUeeWMJJbMqFSloqryIOa9dttwGHh\"\n",
        "    access_token = \"1084744810387300352-v7kC8jFV1a9Iq13WknbRDi6T09egtg\"\n",
        "    access_token_secret = \"VmNeWJwgirU0wNxK0qGoltLQmruxjT9fR0grQK16JHkbC\"\n",
        "\n",
        "    myauth = tweepy.OAuthHandler(consumer_key, consumer_secret)\n",
        "    myauth.set_access_token(access_token, access_token_secret)\n",
        "\n",
        "    # LOCATIONS are the longitude, latitude coordinate corners for a box that restricts the\n",
        "    # geographic area from which you will stream tweets. The first two define the southwest\n",
        "    # corner of the box and the second two define the northeast corner of the box.\n",
        "    # LOCATIONS = [-124.7771694, 24.520833, -66.947028, 49.384472,  # Contiguous US\n",
        "    #              -164.639405, 58.806859, -144.152365, 71.76871,  # Alaska\n",
        "    #              -160.161542, 18.776344, -154.641396, 22.878623]  # Hawaii\n",
        "    LOCATIONS = [129.408463169, 31.0295791692, 145.543137242, 45.5514834662]\n",
        "\n",
        "    stream_listener = StreamListener(time_limit=600, file=output_file)\n",
        "    stream = tweepy.Stream(auth=myauth, listener=stream_listener)\n",
        "    stream.filter(locations=LOCATIONS, languages=['en'], encoding=\"utf-8\")"
      ]
    }
  ],
  "metadata": {
    "colab": {
      "collapsed_sections": [],
      "name": "Copy of Copy of 02_geosearch.ipynb",
      "provenance": []
    },
    "kernelspec": {
      "display_name": "Python 3",
      "language": "python",
      "name": "python3"
    },
    "language_info": {
      "codemirror_mode": {
        "name": "ipython",
        "version": 3
      },
      "file_extension": ".py",
      "mimetype": "text/x-python",
      "name": "python",
      "nbconvert_exporter": "python",
      "pygments_lexer": "ipython3",
      "version": "3.7.4"
    }
  },
  "nbformat": 4,
  "nbformat_minor": 0
}